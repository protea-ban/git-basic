{
 "cells": [
  {
   "cell_type": "code",
   "execution_count": 3,
   "metadata": {},
   "outputs": [],
   "source": [
    "import numpy as np\n",
    "import matplotlib.pyplot as plt"
   ]
  },
  {
   "cell_type": "code",
   "execution_count": 2,
   "metadata": {},
   "outputs": [],
   "source": [
    "def relu(matrix):\n",
    "    return np.maximum(0,matrix)"
   ]
  },
  {
   "cell_type": "code",
   "execution_count": 5,
   "metadata": {},
   "outputs": [
    {
     "data": {
      "image/png": "[encoded data removed]",
      "text/plain": [
       "<Figure size 432x288 with 1 Axes>"
      ]
     },
     "metadata": {
      "needs_background": "light"
     },
     "output_type": "display_data"
    }
   ],
   "source": [
    "matrix = [-5,-4,-3,-2,-1,0,1,2,3,4,5]\n",
    "plt.plot(matrix, relu(matrix))\n",
    "plt.savefig(\"relu.png\")\n",
    "plt.show()"
   ]
  },
  {
   "cell_type": "markdown",
   "metadata": {},
   "source": [
    "### 随机生成一个10x10的矩阵，对这个10x10的矩阵进行剪裁，只保留中间的部分"
   ]
  },
  {
   "cell_type": "code",
   "execution_count": 7,
   "metadata": {},
   "outputs": [],
   "source": [
    "import numpy as np\n",
    "matrix = np.random.rand(10,10)"
   ]
  },
  {
   "cell_type": "code",
   "execution_count": 8,
   "metadata": {},
   "outputs": [
    {
     "data": {
      "text/plain": [
       "array([[0.22066867, 0.68523659, 0.25017384, 0.70334857, 0.37521975,\n",
       "        0.38474642, 0.9153365 , 0.74056702, 0.45623035, 0.87932156],\n",
       "       [0.79603722, 0.85613051, 0.38792088, 0.41523292, 0.60659167,\n",
       "        0.71840485, 0.03067346, 0.54105386, 0.46287165, 0.97839445],\n",
       "       [0.54330499, 0.25078564, 0.51640335, 0.96717261, 0.34139649,\n",
       "        0.15064136, 0.26966466, 0.37391026, 0.47673209, 0.31340504],\n",
       "       [0.60203094, 0.02592576, 0.64955287, 0.59396212, 0.63565627,\n",
       "        0.2646011 , 0.04496356, 0.81363337, 0.65419901, 0.51052614],\n",
       "       [0.32082911, 0.42643046, 0.41972606, 0.14076427, 0.13427799,\n",
       "        0.13717573, 0.36909791, 0.7060352 , 0.98583816, 0.80219634],\n",
       "       [0.24645728, 0.17139426, 0.28826379, 0.46776676, 0.01339855,\n",
       "        0.58563095, 0.30302187, 0.17622765, 0.91992929, 0.05696616],\n",
       "       [0.23445861, 0.13613077, 0.33564608, 0.55239285, 0.30828805,\n",
       "        0.78203263, 0.67014387, 0.89684697, 0.40588683, 0.88968171],\n",
       "       [0.81173647, 0.16082412, 0.5236993 , 0.71928544, 0.28939585,\n",
       "        0.83228609, 0.93112654, 0.32857214, 0.32820836, 0.65555695],\n",
       "       [0.87145709, 0.12367504, 0.02955203, 0.09885003, 0.01455948,\n",
       "        0.1238304 , 0.5072722 , 0.34837322, 0.63059044, 0.34084868],\n",
       "       [0.22870649, 0.41339552, 0.08374172, 0.08839271, 0.78672526,\n",
       "        0.76799245, 0.5487838 , 0.07402834, 0.08160652, 0.19890359]])"
      ]
     },
     "execution_count": 8,
     "metadata": {},
     "output_type": "execute_result"
    }
   ],
   "source": [
    "matrix"
   ]
  },
  {
   "cell_type": "code",
   "execution_count": 9,
   "metadata": {},
   "outputs": [
    {
     "data": {
      "text/plain": [
       "array([[0.59396212, 0.63565627, 0.2646011 , 0.04496356],\n",
       "       [0.14076427, 0.13427799, 0.13717573, 0.36909791],\n",
       "       [0.46776676, 0.01339855, 0.58563095, 0.30302187],\n",
       "       [0.55239285, 0.30828805, 0.78203263, 0.67014387]])"
      ]
     },
     "execution_count": 9,
     "metadata": {},
     "output_type": "execute_result"
    }
   ],
   "source": [
    "matrix[3:7,3:7]"
   ]
  },
  {
   "cell_type": "code",
   "execution_count": null,
   "metadata": {},
   "outputs": [],
   "source": []
  }
 ],
 "metadata": {
  "kernelspec": {
   "display_name": "Python 3",
   "language": "python",
   "name": "python3"
  },
  "language_info": {
   "codemirror_mode": {
    "name": "ipython",
    "version": 3
   },
   "file_extension": ".py",
   "mimetype": "text/x-python",
   "name": "python",
   "nbconvert_exporter": "python",
   "pygments_lexer": "ipython3",
   "version": "3.8.3"
  }
 },
 "nbformat": 4,
 "nbformat_minor": 4
}
