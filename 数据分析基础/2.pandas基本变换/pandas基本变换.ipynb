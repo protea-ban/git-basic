{
 "cells": [
  {
   "cell_type": "code",
   "execution_count": null,
   "metadata": {},
   "outputs": [],
   "source": [
    "import numpy as np\n",
    "import pandas as pd\n",
    "\n",
    "d = {\n",
    "    'one': pd.Series([1., 2., 3.], index=['a', 'b', 'c']), \n",
    "    'two': pd.Series([1., 2., 3., 4.], index=['a', 'b', 'c', 'd'])\n",
    "}\n",
    "df = pd.DataFrame(d)\n",
    "\n",
    "df\n",
    "\n",
    "# 1. 创建变量r1 = 将df中所有大于3的值乘方，其他值不变 \n",
    "\n",
    "r1 = df\n",
    "\n",
    "r1.applymap(lambda x: x * x if x > 3 else x)\n",
    "\n",
    "# 2. 创建变量r2 = df中含有1或4的行 \n",
    "\n",
    "r2 = df\n",
    "\n",
    "r2.loc[~((r2['one'] != 1) & (r2['two'] != 4) & (r2['one'] != 4) & (r2['two'] != 1)) ]\n",
    "\n",
    "# 3. 创建变量r3 = df中随机一列 \n",
    "\n",
    "r3 = df\n",
    "\n",
    "r3.sample(n=1,axis=1)\n",
    "\n",
    "# 4. 创建变量r4 = 在df的基础上添加一列add：值为列one与列two的值相加应该如何实现 \n",
    "r4 = df\n",
    "\n",
    "r4['add'] = r4['one'] + r4['two']\n",
    "\n",
    "r4\n",
    "\n",
    "# 5. 创建变量r5 = df中one列>2的行\n",
    "r5 = df[df['one'] > 2]\n",
    "\n",
    "r5\n",
    "\n"
   ]
  }
 ],
 "metadata": {
  "kernelspec": {
   "display_name": "Python 3",
   "language": "python",
   "name": "python3"
  },
  "language_info": {
   "codemirror_mode": {
    "name": "ipython",
    "version": 3
   },
   "file_extension": ".py",
   "mimetype": "text/x-python",
   "name": "python",
   "nbconvert_exporter": "python",
   "pygments_lexer": "ipython3",
   "version": "3.8.3"
  }
 },
 "nbformat": 4,
 "nbformat_minor": 4
}
